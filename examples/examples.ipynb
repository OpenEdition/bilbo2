{
 "cells": [
  {
   "cell_type": "code",
   "execution_count": 1,
   "metadata": {},
   "outputs": [],
   "source": [
    "import configparser\n",
    "from bilbo.importer import Importer\n",
    "from bilbo.components.shape_data.shape_data import ShapeSection\n",
    "from bilbo.components.features.features import FeatureHandler\n",
    "from bilbo.components.crf.crf import Crf\n",
    "from bilbo.bilbo import Bilbo"
   ]
  },
  {
   "cell_type": "markdown",
   "metadata": {},
   "source": [
    "## Bilbo in a shell"
   ]
  },
  {
   "cell_type": "markdown",
   "metadata": {},
   "source": [
    "### Construct Data Structure\n",
    "First import your xml document. You can import string or a file. For any action (machine learning prediction, features extraction, set a new xml properties), you will handle this document object.\n"
   ]
  },
  {
   "cell_type": "code",
   "execution_count": 2,
   "metadata": {},
   "outputs": [],
   "source": [
    "#xml_str = '<xml>Oustide<bibl><pubPlace>Marseille</pubPlace>, <sponsor>OpenEdition is \"! inside </sponsor>>a bibl</bibl></xml>'\n",
    "xml_str = \"\"\"<TEI xmlns=\"http://www.tei-c.org/ns/1.0\"> Outside \n",
    "<bibl>Hillier B., 1996, <hi>Space is the Machine</hi>, Cambridge University Press, <pubPlace>Cambridge.</pubPlace>\n",
    "</bibl></TEI>\"\"\"\n",
    "imp = Importer(xml_str)\n",
    "doc = imp.parse_xml('bibl', is_file = False)"
   ]
  },
  {
   "cell_type": "markdown",
   "metadata": {},
   "source": [
    "### Tokenize, extract and wrap xml informations"
   ]
  },
  {
   "cell_type": "markdown",
   "metadata": {},
   "source": [
    "First, load parameters. "
   ]
  },
  {
   "cell_type": "code",
   "execution_count": 3,
   "metadata": {},
   "outputs": [],
   "source": [
    "dic = \"\"\"                                                      \n",
    "[shaper]                        \n",
    "tokenizerOption = fine          \n",
    "tagsOptions = {                                                                                 \n",
    "    \"pubPlace\": \"place\",\n",
    "    \"sponsor\": \"publisher\",\n",
    "    } \n",
    "verbose = True\n",
    "\"\"\"\n",
    "#Load the dic.\n",
    "#There are differnt ways to set parameters (ini file...)see: https://docs.python.org/3/library/configparser.html#quick-start\n",
    "config = configparser.ConfigParser(allow_no_value=True) \n",
    "config.read_string(dic)"
   ]
  },
  {
   "cell_type": "markdown",
   "metadata": {},
   "source": [
    "Use ShapeSection class.\n",
    "Note at any moment you can call help for parameters function:"
   ]
  },
  {
   "cell_type": "code",
   "execution_count": 4,
   "metadata": {},
   "outputs": [
    {
     "name": "stdout",
     "output_type": "stream",
     "text": [
      "Help on function __init__ in module bilbo.components.shape_data.shape_data:\n",
      "\n",
      "__init__(self, cfg_file, type_config='ini', lang='fr')\n",
      "    Initialize self.  See help(type(self)) for accurate signature.\n",
      "\n"
     ]
    }
   ],
   "source": [
    "help(ShapeSection.__init__)"
   ]
  },
  {
   "cell_type": "code",
   "execution_count": 5,
   "metadata": {},
   "outputs": [
    {
     "data": {
      "text/plain": [
       "<bilbo.storage.document.Document at 0x7fc3740d7390>"
      ]
     },
     "execution_count": 5,
     "metadata": {},
     "output_type": "execute_result"
    }
   ],
   "source": [
    "sh = ShapeSection(config, type_config='Dict')\n",
    "sh.transform(doc)"
   ]
  },
  {
   "cell_type": "markdown",
   "metadata": {},
   "source": [
    "To see an overview of your document:"
   ]
  },
  {
   "cell_type": "code",
   "execution_count": 6,
   "metadata": {},
   "outputs": [
    {
     "name": "stdout",
     "output_type": "stream",
     "text": [
      "Token:Hillier\t\t Label:bibl\n",
      "Token:B.\t\t Label:bibl\n",
      "Token:,\t\t Label:c\n",
      "Token:1996\t\t Label:bibl\n",
      "Token:,\t\t Label:c\n",
      "Token:Space\t\t Label:hi\n",
      "Token:is\t\t Label:hi\n",
      "Token:the\t\t Label:hi\n",
      "Token:Machine\t\t Label:hi\n",
      "Token:,\t\t Label:c\n",
      "Token:Cambridge\t\t Label:bibl\n",
      "Token:University\t\t Label:bibl\n",
      "Token:Press\t\t Label:bibl\n",
      "Token:,\t\t Label:c\n",
      "Token:Cambridge\t\t Label:place\n",
      "Token:.\t\t Label:c\n"
     ]
    }
   ],
   "source": [
    "for section in doc.sections:\n",
    "    for token in section.tokens:\n",
    "        print('Token:{0}\\t\\t Label:{1}'.format(token.str_value, token.label))"
   ]
  },
  {
   "cell_type": "markdown",
   "metadata": {},
   "source": [
    "### Features"
   ]
  },
  {
   "cell_type": "markdown",
   "metadata": {},
   "source": [
    "Set features that you are needed. For external features, you need to give the **Right Path** to externals lists..."
   ]
  },
  {
   "cell_type": "code",
   "execution_count": 7,
   "metadata": {},
   "outputs": [],
   "source": [
    "dic = \"\"\"                                                      \n",
    "[features]\n",
    "listFeatures = numbersMixed, cap, dash, biblPosition, initial\n",
    "listFeaturesRegex = ('UNIVERSITY', '^Uni.*ty$')\n",
    "listFeaturesExternes = ('surname', 'surname_list.txt', 'simple'),\n",
    "listFeaturesXML = italic\n",
    "output = output.txt \n",
    "verbose = False \n",
    "\"\"\"\n",
    "config = configparser.ConfigParser(allow_no_value=True) \n",
    "config.read_string(dic)"
   ]
  },
  {
   "cell_type": "markdown",
   "metadata": {},
   "source": [
    "Features are given for convenience in  Crf++ format."
   ]
  },
  {
   "cell_type": "code",
   "execution_count": 8,
   "metadata": {
    "scrolled": true
   },
   "outputs": [
    {
     "name": "stdout",
     "output_type": "stream",
     "text": [
      "Hillier NONUMBERS FIRSTCAP NODASH BIBL_START NOINITIAL NOUNIVERSITY SURNAME NOITALIC bibl\n",
      "\n",
      "B. NONUMBERS ALLCAP NODASH BIBL_START INITIAL NOUNIVERSITY NOSURNAME NOITALIC bibl\n",
      "\n",
      ", NONUMBERS NONIMPCAP NODASH BIBL_START NOINITIAL NOUNIVERSITY NOSURNAME NOITALIC c\n",
      "\n",
      "1996 NUMBERS NONIMPCAP NODASH BIBL_START NOINITIAL NOUNIVERSITY NOSURNAME NOITALIC bibl\n",
      "\n",
      ", NONUMBERS NONIMPCAP NODASH BIBL_START NOINITIAL NOUNIVERSITY NOSURNAME NOITALIC c\n",
      "\n",
      "Space NONUMBERS FIRSTCAP NODASH BIBL_START NOINITIAL NOUNIVERSITY NOSURNAME ITALIC hi\n",
      "\n",
      "is NONUMBERS ALLSMALL NODASH BIBL_IN NOINITIAL NOUNIVERSITY NOSURNAME ITALIC hi\n",
      "\n",
      "the NONUMBERS ALLSMALL NODASH BIBL_IN NOINITIAL NOUNIVERSITY NOSURNAME ITALIC hi\n",
      "\n",
      "Machine NONUMBERS FIRSTCAP NODASH BIBL_IN NOINITIAL NOUNIVERSITY NOSURNAME ITALIC hi\n",
      "\n",
      ", NONUMBERS NONIMPCAP NODASH BIBL_IN NOINITIAL NOUNIVERSITY NOSURNAME NOITALIC c\n",
      "\n",
      "Cambridge NONUMBERS FIRSTCAP NODASH BIBL_IN NOINITIAL NOUNIVERSITY NOSURNAME NOITALIC bibl\n",
      "\n",
      "University NONUMBERS FIRSTCAP NODASH BIBL_END NOINITIAL UNIVERSITY NOSURNAME NOITALIC bibl\n",
      "\n",
      "Press NONUMBERS FIRSTCAP NODASH BIBL_END NOINITIAL NOUNIVERSITY NOSURNAME NOITALIC bibl\n",
      "\n",
      ", NONUMBERS NONIMPCAP NODASH BIBL_END NOINITIAL NOUNIVERSITY NOSURNAME NOITALIC c\n",
      "\n",
      "Cambridge NONUMBERS FIRSTCAP NODASH BIBL_END NOINITIAL NOUNIVERSITY NOSURNAME NOITALIC place\n",
      "\n",
      ". NONUMBERS NONIMPCAP NODASH BIBL_END NOINITIAL NOUNIVERSITY NOSURNAME NOITALIC c\n",
      "\n"
     ]
    }
   ],
   "source": [
    "feat = FeatureHandler(config, type_config='Dict')\n",
    "feat.loadFonctionsFeatures()\n",
    "doc = feat.transform(doc)\n",
    "feat.print_features(doc)"
   ]
  },
  {
   "cell_type": "markdown",
   "metadata": {},
   "source": [
    "### Make predictions \n",
    "First, to get an Document storage object which make sense (not as above, just for demonstration usage). Keep in mind to load parameters with th **Right Path** for file configuration ('pipeline_bibl.cfg') "
   ]
  },
  {
   "cell_type": "code",
   "execution_count": 9,
   "metadata": {},
   "outputs": [
    {
     "data": {
      "text/plain": [
       "<bilbo.storage.document.Document at 0x7fc3740ac828>"
      ]
     },
     "execution_count": 9,
     "metadata": {},
     "output_type": "execute_result"
    }
   ],
   "source": [
    "# This part is a fast resume of TOKENIZER AND FEATURE explain above.\n",
    "# There are runned again with the appropriate parameter (path to pipeline_bibl.cfg).\n",
    "imp = Importer(xml_str)\n",
    "doc = imp.parse_xml('bibl', is_file = False)\n",
    "bbo = Bilbo(doc, 'pipeline_bibl.cfg')\n",
    "bbo.shape_data(doc)\n",
    "bbo.features(doc)"
   ]
  },
  {
   "cell_type": "markdown",
   "metadata": {},
   "source": [
    "We have now a Document storage object which contains all needed information"
   ]
  },
  {
   "cell_type": "code",
   "execution_count": 10,
   "metadata": {},
   "outputs": [
    {
     "name": "stdout",
     "output_type": "stream",
     "text": [
      "Hillier surname\n",
      "B. forename\n",
      ", c\n",
      "1996 date\n",
      ", c\n",
      "Space title\n",
      "is title\n",
      "the title\n",
      "Machine title\n",
      ", c\n",
      "Cambridge publisher\n",
      "University publisher\n",
      "Press publisher\n",
      ", c\n",
      "Cambridge pubPlace\n",
      ". c\n"
     ]
    }
   ],
   "source": [
    "# Start to make predictions\n",
    "tagger = Crf(bbo.config, type_config='Dict')\n",
    "labels = tagger.predict(doc)\n",
    "\n",
    "for label in labels:\n",
    "    for l in label:\n",
    "        print(l[0], l[1])"
   ]
  },
  {
   "cell_type": "markdown",
   "metadata": {},
   "source": [
    "### Add prediction at the data structure\n",
    "Always use transform() function for added prediction to Document storage object. Note for estimator component, three option are availables :'tag', 'train', 'evaluate'  "
   ]
  },
  {
   "cell_type": "code",
   "execution_count": 11,
   "metadata": {},
   "outputs": [],
   "source": [
    "tagger.transform(doc, 'tag')"
   ]
  },
  {
   "cell_type": "code",
   "execution_count": 12,
   "metadata": {},
   "outputs": [
    {
     "name": "stdout",
     "output_type": "stream",
     "text": [
      "Token:Hillier\t\t Label:surname\n",
      "Token:B.\t\t Label:forename\n",
      "Token:,\t\t Label:c\n",
      "Token:1996\t\t Label:date\n",
      "Token:,\t\t Label:c\n",
      "Token:Space\t\t Label:title\n",
      "Token:is\t\t Label:title\n",
      "Token:the\t\t Label:title\n",
      "Token:Machine\t\t Label:title\n",
      "Token:,\t\t Label:c\n",
      "Token:Cambridge\t\t Label:publisher\n",
      "Token:University\t\t Label:publisher\n",
      "Token:Press\t\t Label:publisher\n",
      "Token:,\t\t Label:c\n",
      "Token:Cambridge\t\t Label:pubPlace\n",
      "Token:.\t\t Label:c\n"
     ]
    }
   ],
   "source": [
    "for section in doc.sections:\n",
    "    for token in section.tokens:\n",
    "        print('Token:{0}\\t\\t Label:{1}'.format(token.str_value, token.predict_label))"
   ]
  },
  {
   "cell_type": "markdown",
   "metadata": {},
   "source": [
    "## Annotator bilbo usage"
   ]
  },
  {
   "cell_type": "markdown",
   "metadata": {},
   "source": [
    "### For bibliography"
   ]
  },
  {
   "cell_type": "code",
   "execution_count": 13,
   "metadata": {},
   "outputs": [],
   "source": [
    "imp = Importer('resources/corpus/bibl/test_bibl.xml')\n",
    "doc = imp.parse_xml('bibl')\n",
    "bilbo = Bilbo(doc, 'pipeline_bibl.cfg')\n",
    "bilbo.run_pipeline('tag', 'bibl', '/tmp/output.xml', format_= None)"
   ]
  },
  {
   "cell_type": "markdown",
   "metadata": {},
   "source": [
    "### For note"
   ]
  },
  {
   "cell_type": "code",
   "execution_count": null,
   "metadata": {},
   "outputs": [],
   "source": [
    "imp = Importer('resources/corpus/note/test_note.xml')\n",
    "doc = imp.parse_xml('note')\n",
    "bilbo = Bilbo(doc, 'pipeline_note.cfg')\n",
    "bilbo.run_pipeline('tag', 'note', '/tmp/output.xml', format_= None)"
   ]
  },
  {
   "cell_type": "markdown",
   "metadata": {},
   "source": [
    "### Train\n",
    "Just modify tag parameter to train parameter!! Note: output could be some binaries constructed model (They must be specified in pipeline_bibl.cfg not as parameters in run_pipeline() function. "
   ]
  },
  {
   "cell_type": "markdown",
   "metadata": {},
   "source": [
    "### Evaluation (end to end)\n",
    "For evaluate the models just launch bilbo on your datatest annotated as:"
   ]
  },
  {
   "cell_type": "code",
   "execution_count": 14,
   "metadata": {},
   "outputs": [
    {
     "name": "stdout",
     "output_type": "stream",
     "text": [
      "-----------------------------------------------------------\n",
      "         label  precision     rappel  f-measure  occurences\n",
      "-----------------------------------------------------------\n",
      "          abbr      0.874      0.765      0.816        452\n",
      "     biblScope      0.887      0.571      0.695        594\n",
      "     booktitle      0.903      0.629      0.742         89\n",
      "          date      0.716      0.915      0.803        614\n",
      "       edition      0.690      0.460      0.552        126\n",
      "          emph      1.000      1.000      1.000          2\n",
      "        extent      1.000      0.979      0.989         48\n",
      "      forename      0.929      0.956      0.942        942\n",
      "       genName      1.000      1.000      1.000          1\n",
      "       journal      0.823      0.732      0.774        514\n",
      "      nameLink      0.282      1.000      0.440         11\n",
      "       orgName      0.902      0.836      0.868        110\n",
      "         place      0.824      0.933      0.875         15\n",
      "      pubPlace      0.962      0.934      0.948        379\n",
      "     publisher      0.936      0.732      0.821        920\n",
      "           ref      1.000      0.071      0.133         14\n",
      "       surname      0.937      0.934      0.936        823\n",
      "         title      0.868      0.889      0.879       5740\n",
      "-----------------------------------------------------------\n",
      "          mean      0.863      0.797      0.828      11394\n",
      " weighted mean      0.877      0.852      0.864      11394\n",
      "-----------------------------------------------------------\n"
     ]
    }
   ],
   "source": [
    "imp = Importer('resources/corpus/bibl/data_test.xml')\n",
    "doc = imp.parse_xml('bibl')\n",
    "bilbo = Bilbo(doc, 'pipeline_bibl.cfg')\n",
    "bilbo.run_pipeline('evaluate', 'bibl', None, None)"
   ]
  },
  {
   "cell_type": "markdown",
   "metadata": {},
   "source": [
    "### Evaluation by component\n",
    "You can evaluate each component. In this case we use bilbo as toolkit usage. Load your annotated data : data format annotated is depended of component used. You have to always generate this data first.\n",
    "And just launch (for svm for instance)  "
   ]
  },
  {
   "cell_type": "code",
   "execution_count": null,
   "metadata": {},
   "outputs": [],
   "source": [
    "svm.evaluate(input_svm_data_format)"
   ]
  }
 ],
 "metadata": {
  "kernelspec": {
   "display_name": "Python 3",
   "language": "python",
   "name": "python3"
  },
  "language_info": {
   "codemirror_mode": {
    "name": "ipython",
    "version": 3
   },
   "file_extension": ".py",
   "mimetype": "text/x-python",
   "name": "python",
   "nbconvert_exporter": "python",
   "pygments_lexer": "ipython3",
   "version": "3.5.6"
  }
 },
 "nbformat": 4,
 "nbformat_minor": 2
}
